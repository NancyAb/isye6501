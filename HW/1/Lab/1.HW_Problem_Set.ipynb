{
 "cells": [
  {
   "cell_type": "markdown",
   "metadata": {},
   "source": [
    "**Question 1**\n",
    "\n",
    "*Describe a situation or problem from your job, everyday life, current events, etc., for which a classification model would be appropriate. List some (up to 5) predictors that you might use.*\n",
    "\n",
    "In my day job I work in the insurance industry where classification models are used frequently. Most commonly classification models are used to predict how risky a prospective insurance policy is. For example, say that you are creating a model that is classifying customers who want an auto insurance policy. The model classifies them into one of five predefined groups: very risky, risky, average, safe, very safe. Some of the predictors used for this model could be traffic citations history, car make/model, safety rating of car, claim frequency and others."
   ]
  },
  {
   "cell_type": "markdown",
   "metadata": {},
   "source": [
    "**Question 2**\n",
    "\n",
    "*SVM Classifier for Credit Card Data*"
   ]
  },
  {
   "cell_type": "code",
   "execution_count": 6,
   "metadata": {},
   "outputs": [
    {
     "name": "stderr",
     "output_type": "stream",
     "text": [
      "Warning message:\n",
      "“unable to access index for repository http://cran.us.r-project.org/src/contrib:\n",
      "  internet routines cannot be loaded”Warning message:\n",
      "“package ‘kernlab’ is not available (for R version 3.4.1)”"
     ]
    }
   ],
   "source": [
    "install.packages('kernlab', repos='http://cran.us.r-project.org')\n"
   ]
  },
  {
   "cell_type": "code",
   "execution_count": 2,
   "metadata": {},
   "outputs": [
    {
     "ename": "ERROR",
     "evalue": "Error in library(\"kernlab\"): there is no package called ‘kernlab’\n",
     "output_type": "error",
     "traceback": [
      "Error in library(\"kernlab\"): there is no package called ‘kernlab’\nTraceback:\n",
      "1. library(\"kernlab\")",
      "2. stop(txt, domain = NA)"
     ]
    }
   ],
   "source": [
    "library(\"kernlab\")\n",
    "\n",
    "data <- read.table(\"https://d37djvu3ytnwxt.cloudfront.net/assets/courseware/v1/39b78ff5c5c28981f009b54831d81649/asset-v1:GTx+ISYE6501x+2T2017+type@asset+block/credit_card_data-headers.txt\", header = TRUE)\n",
    "data <- as.matrix(data)\n",
    "\n",
    "\n",
    "# call ksvm. Vanilladot is a simple linear kernel.\n",
    "\n",
    "model <- ksvm(data[ , 1:10], data[,11], type=\"C-svc\", kernel= \"vanilladot\", C=100, scaled=TRUE)\n",
    "\n",
    "# calculate a1…am\n",
    "a <- colSums(data[model@SVindex,1:10] * model@coef[[1]])\n",
    "print(\"a =\")\n",
    "print(a)\n",
    "\n",
    "\n",
    "# calculate a0\n",
    "a0 <- sum(a*data[1,1:10]) - model@b\n",
    "print(\"a0 =\")\n",
    "print(a0)\n",
    "\n",
    "\n",
    "# see what the model predicts\n",
    "pred <- predict(model, data[,1:10])\n",
    "\n",
    "print(\"pred =\")\n",
    "print(pred)\n",
    "\n",
    "# see what fraction of the model’s predictions match the\n",
    "# actual classification\n",
    "\n",
    "print(\"Prediction % =\")\n",
    "print(sum(pred == data[,11]) / nrow(data))"
   ]
  },
  {
   "cell_type": "code",
   "execution_count": null,
   "metadata": {
    "collapsed": true
   },
   "outputs": [],
   "source": []
  }
 ],
 "metadata": {
  "anaconda-cloud": {},
  "kernelspec": {
   "display_name": "R",
   "language": "R",
   "name": "ir"
  },
  "language_info": {
   "codemirror_mode": "r",
   "file_extension": ".r",
   "mimetype": "text/x-r-source",
   "name": "R",
   "pygments_lexer": "r",
   "version": "3.4.1"
  }
 },
 "nbformat": 4,
 "nbformat_minor": 1
}
